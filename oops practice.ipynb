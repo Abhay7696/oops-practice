{
 "cells": [
  {
   "cell_type": "code",
   "execution_count": 1,
   "id": "1014d249-50c0-4d20-8549-408b64b1dbc9",
   "metadata": {},
   "outputs": [],
   "source": [
    "# class is a blue print , datatype is class and variable of this data type is object. oject is an instant of class\n",
    "\n",
    "#class - two things 1.data or property  2. function or behaviour\n",
    "\n",
    "#ex . class - car - data - colour ,engine type, brand . this is common .\n",
    "\n",
    "#behaviour - calmileage , show gps , speed , air bag.\n",
    "\n",
    "#class name should be in pascal case .\n",
    "\n",
    "#+ notation is used for outer progrm.\n",
    "#- notation is used for private progrm.\n",
    "\n",
    "## How to create an object?\n",
    "## object Examples\n",
    "\n",
    "#1.Car------->WagorR  //      Wagonr=Car()\n",
    "#2.Sports---->Gilli Danda//   gillidanda=Sports()\n",
    "#3.Animals---->Langoor//      langoor=Animals()\n",
    "\n",
    "# Methods are written inside the class while Function is written outside the class and general\n",
    "##function inside class is called method"
   ]
  },
  {
   "cell_type": "code",
   "execution_count": 2,
   "id": "d88e2a79-b2ea-4970-868a-fc44ae0798ae",
   "metadata": {},
   "outputs": [],
   "source": [
    "# Lets makes a class"
   ]
  },
  {
   "cell_type": "code",
   "execution_count": 3,
   "id": "117a9579-0571-485d-8a9a-2165fb4770ae",
   "metadata": {},
   "outputs": [],
   "source": [
    "class Phone:\n",
    "    def make_call(self):\n",
    "        print(\"Making phone call\")\n",
    "        \n",
    "    def play_games(self):\n",
    "        print(\"playing Games\")\n",
    "        \n",
    "    def watch_movie(self):\n",
    "        print(\"watching movies\")"
   ]
  },
  {
   "cell_type": "code",
   "execution_count": 4,
   "id": "0913b920-6778-4656-85cf-c691c3fd09a7",
   "metadata": {},
   "outputs": [],
   "source": [
    "p1 = Phone()"
   ]
  },
  {
   "cell_type": "code",
   "execution_count": 5,
   "id": "eb40bbc5-4488-4fbd-83a1-c7ed9ecd74c8",
   "metadata": {},
   "outputs": [
    {
     "name": "stdout",
     "output_type": "stream",
     "text": [
      "Making phone call\n"
     ]
    }
   ],
   "source": [
    "p1.make_call()"
   ]
  },
  {
   "cell_type": "code",
   "execution_count": 6,
   "id": "95459735-0a79-4aa0-9f45-62050b5ee630",
   "metadata": {},
   "outputs": [
    {
     "name": "stdout",
     "output_type": "stream",
     "text": [
      "playing Games\n"
     ]
    }
   ],
   "source": [
    "p1.play_games()"
   ]
  },
  {
   "cell_type": "code",
   "execution_count": 7,
   "id": "ebd03dce-b7b3-4f41-8d4d-6b7fb6e26b92",
   "metadata": {},
   "outputs": [
    {
     "name": "stdout",
     "output_type": "stream",
     "text": [
      "watching movies\n"
     ]
    }
   ],
   "source": [
    "p1.watch_movie()"
   ]
  },
  {
   "cell_type": "code",
   "execution_count": 8,
   "id": "14058eef-b231-4228-afa6-c6de8fa629e9",
   "metadata": {},
   "outputs": [],
   "source": [
    "class Phone1:\n",
    "    def set_color(self,color):\n",
    "        self.colour = color\n",
    "    def set_cost(self,cost):\n",
    "        self.cost = cost\n",
    "    def show_color(self):\n",
    "        return self.colour\n",
    "    def show_cost(self):\n",
    "        return self.cost\n",
    "    def make_call(self):\n",
    "        print(\"make a call\")\n",
    "    def play_game(self):\n",
    "        print(\"playing game\")\n",
    "        "
   ]
  },
  {
   "cell_type": "code",
   "execution_count": 9,
   "id": "bb4a6afa-e9e6-4c1e-a835-73328711a5ef",
   "metadata": {},
   "outputs": [],
   "source": [
    "p2 = Phone1()"
   ]
  },
  {
   "cell_type": "code",
   "execution_count": 10,
   "id": "8a33b551-9477-4bf5-a5a2-491001143fc0",
   "metadata": {},
   "outputs": [],
   "source": [
    "p2.set_color(\"blue\")"
   ]
  },
  {
   "cell_type": "code",
   "execution_count": 11,
   "id": "aad29fa4-be8b-4e53-bd61-76255175894c",
   "metadata": {},
   "outputs": [],
   "source": [
    "p2.set_cost(\"15000\")"
   ]
  },
  {
   "cell_type": "code",
   "execution_count": 12,
   "id": "b063a8c6-f1ff-4c46-8987-d6db4a777429",
   "metadata": {},
   "outputs": [
    {
     "data": {
      "text/plain": [
       "'blue'"
      ]
     },
     "execution_count": 12,
     "metadata": {},
     "output_type": "execute_result"
    }
   ],
   "source": [
    "p2.show_color()"
   ]
  },
  {
   "cell_type": "code",
   "execution_count": 13,
   "id": "ccb27be3-ac3d-45d8-a695-36bcfc874199",
   "metadata": {},
   "outputs": [
    {
     "data": {
      "text/plain": [
       "'15000'"
      ]
     },
     "execution_count": 13,
     "metadata": {},
     "output_type": "execute_result"
    }
   ],
   "source": [
    "p2.show_cost()"
   ]
  },
  {
   "cell_type": "code",
   "execution_count": 14,
   "id": "f4a75d97-4417-4ad4-9a6b-dce2416b365f",
   "metadata": {},
   "outputs": [
    {
     "name": "stdout",
     "output_type": "stream",
     "text": [
      "make a call\n"
     ]
    }
   ],
   "source": [
    "p2.make_call()"
   ]
  },
  {
   "cell_type": "code",
   "execution_count": 15,
   "id": "4b81951f-3895-4af2-8a97-c6fa5f59f234",
   "metadata": {},
   "outputs": [
    {
     "name": "stdout",
     "output_type": "stream",
     "text": [
      "playing game\n"
     ]
    }
   ],
   "source": [
    "p2.play_game()"
   ]
  },
  {
   "cell_type": "code",
   "execution_count": 16,
   "id": "43022463-ebf6-43b2-80c8-0fba949583d0",
   "metadata": {},
   "outputs": [],
   "source": [
    "## Making class using __init__ i.e constructor of class"
   ]
  },
  {
   "cell_type": "code",
   "execution_count": 17,
   "id": "fa9f1207-ad6b-4861-9387-b3b86e4aacb4",
   "metadata": {},
   "outputs": [],
   "source": [
    "class Employee:\n",
    "    def __init__(self, name , age , salary , gender):\n",
    "        self.name = name\n",
    "        self.age = age\n",
    "        self.salary = salary\n",
    "        self.gender = gender\n",
    "        \n",
    "    def employee_details(self):\n",
    "        print(\"name of employee is\" ,self.name)\n",
    "        print(\"age of employee is \" ,self.age)\n",
    "        print(\"salary of employee is\" , self.salary)\n",
    "        print(\"gender of employee is\" , self.gender)\n",
    "    "
   ]
  },
  {
   "cell_type": "code",
   "execution_count": 18,
   "id": "4c59eb2e-1b35-4e6c-a354-3b52fe19241a",
   "metadata": {},
   "outputs": [],
   "source": [
    "e1 = Employee( \"pankaj\" , 28 , 100000 , \"female\")"
   ]
  },
  {
   "cell_type": "code",
   "execution_count": 19,
   "id": "8073c070-d3f3-4158-9961-1b38eb416b83",
   "metadata": {},
   "outputs": [
    {
     "name": "stdout",
     "output_type": "stream",
     "text": [
      "name of employee is pankaj\n",
      "age of employee is  28\n",
      "salary of employee is 100000\n",
      "gender of employee is female\n"
     ]
    }
   ],
   "source": [
    "e1.employee_details()"
   ]
  },
  {
   "cell_type": "code",
   "execution_count": 20,
   "id": "a771c50f-cc82-4842-b5bb-7098be7cdd35",
   "metadata": {},
   "outputs": [],
   "source": [
    "e2 = Employee(\"Abhay\" , 28 , 500 , \"Male\")"
   ]
  },
  {
   "cell_type": "code",
   "execution_count": 21,
   "id": "50a26645-da31-4c6c-b88b-aee10fce9a5e",
   "metadata": {},
   "outputs": [
    {
     "name": "stdout",
     "output_type": "stream",
     "text": [
      "name of employee is Abhay\n",
      "age of employee is  28\n",
      "salary of employee is 500\n",
      "gender of employee is Male\n"
     ]
    }
   ],
   "source": [
    "e2.employee_details()"
   ]
  },
  {
   "cell_type": "code",
   "execution_count": 22,
   "id": "dd7f4fa1-a181-41d4-ba04-1c42a9fd1183",
   "metadata": {},
   "outputs": [],
   "source": [
    "# inheritance in phython: one class can derived the property of other class\n",
    "# their are two class\n",
    "#1. super-class 2. sub-class"
   ]
  },
  {
   "cell_type": "code",
   "execution_count": 23,
   "id": "38f91cf1-af52-478e-97e4-6c231554e294",
   "metadata": {},
   "outputs": [],
   "source": [
    "class Vehicle():\n",
    "    def __init__(self,Honda , mileage , cost):\n",
    "        self.Honda = Honda\n",
    "        self.mileage = mileage\n",
    "        self.cost = cost\n",
    "        \n",
    "    def vehicle_details(self):\n",
    "        print(\"name of brand is\" , self.Honda)\n",
    "        print(\"milage of vehicle is \" , self.mileage)\n",
    "        print(\"cost of vehicle is \" , self.cost)"
   ]
  },
  {
   "cell_type": "code",
   "execution_count": 24,
   "id": "90e83d08-34ac-47e2-8ec0-f54e7871f253",
   "metadata": {},
   "outputs": [],
   "source": [
    "v1 = Vehicle(\"Honda xuv\" , 15 , 800000)"
   ]
  },
  {
   "cell_type": "code",
   "execution_count": 25,
   "id": "fed42923-7128-4be2-8722-7dc79f14550a",
   "metadata": {},
   "outputs": [
    {
     "name": "stdout",
     "output_type": "stream",
     "text": [
      "name of brand is Honda xuv\n",
      "milage of vehicle is  15\n",
      "cost of vehicle is  800000\n"
     ]
    }
   ],
   "source": [
    "v1.vehicle_details()"
   ]
  },
  {
   "cell_type": "code",
   "execution_count": 26,
   "id": "164a0d11-9dc5-4657-8b2a-c6d5fec5eb9e",
   "metadata": {},
   "outputs": [],
   "source": [
    "class Car(Vehicle):\n",
    "    def show_car(self):\n",
    "        print(\"i am a car\")"
   ]
  },
  {
   "cell_type": "code",
   "execution_count": 27,
   "id": "1272fddd-bd37-4307-aa59-4282acaf3fd1",
   "metadata": {},
   "outputs": [],
   "source": [
    "c1 = Car('Maruti Baleno' , 20, 120000)"
   ]
  },
  {
   "cell_type": "code",
   "execution_count": 28,
   "id": "5ef76d41-881f-499e-af7b-6cb5f21c03ee",
   "metadata": {},
   "outputs": [
    {
     "name": "stdout",
     "output_type": "stream",
     "text": [
      "name of brand is Maruti Baleno\n",
      "milage of vehicle is  20\n",
      "cost of vehicle is  120000\n"
     ]
    }
   ],
   "source": [
    "c1.vehicle_details()"
   ]
  },
  {
   "cell_type": "code",
   "execution_count": 29,
   "id": "3836151e-04bb-4194-af8b-615f92f9dee7",
   "metadata": {},
   "outputs": [
    {
     "name": "stdout",
     "output_type": "stream",
     "text": [
      "i am a car\n"
     ]
    }
   ],
   "source": [
    "c1.show_car()"
   ]
  },
  {
   "cell_type": "code",
   "execution_count": 30,
   "id": "9feecd2f-f9ee-4857-a91f-a665e137079c",
   "metadata": {},
   "outputs": [],
   "source": [
    "## over-riding __init__ method "
   ]
  },
  {
   "cell_type": "code",
   "execution_count": 31,
   "id": "b345a451-b642-4b9c-92d3-b8fb3df921d2",
   "metadata": {},
   "outputs": [],
   "source": [
    "class Vehicle():\n",
    "    def __init__(self,mileage , cost):\n",
    "        self.mileage = mileage\n",
    "        self.cost = cost\n",
    "        \n",
    "    def vehicle_details(self):\n",
    "        print(\"milage of vehicle is \" , self.mileage)\n",
    "        print(\"cost of vehicle is \" , self.cost)"
   ]
  },
  {
   "cell_type": "code",
   "execution_count": 32,
   "id": "417390f7-4a30-4760-98a7-b2223429a575",
   "metadata": {},
   "outputs": [],
   "source": [
    "v1 = Vehicle( 15, 1200000)"
   ]
  },
  {
   "cell_type": "code",
   "execution_count": 33,
   "id": "de71125e-a3a7-4f55-ad77-b9a9b0e2b2f2",
   "metadata": {},
   "outputs": [
    {
     "name": "stdout",
     "output_type": "stream",
     "text": [
      "milage of vehicle is  15\n",
      "cost of vehicle is  1200000\n"
     ]
    }
   ],
   "source": [
    "v1.vehicle_details()"
   ]
  },
  {
   "cell_type": "code",
   "execution_count": 34,
   "id": "4f00cf81-c819-405b-b20e-9c6de1a1577e",
   "metadata": {},
   "outputs": [],
   "source": [
    "class Car(Vehicle):\n",
    "    def __init__(self , mileage , cost , tyres , hp):\n",
    "        super().__init__(mileage,cost)\n",
    "        self.tyres = tyres\n",
    "        self.hp = hp\n",
    "        \n",
    "    def show_car_details(self):\n",
    "        print(\"Numbers of tyres in car\" , self.tyres)\n",
    "        print(\"Horse power of car is\" , self.hp)\n",
    "        print(\" i am a car\")"
   ]
  },
  {
   "cell_type": "code",
   "execution_count": 35,
   "id": "ca73fdad-e47f-4e59-b073-5951e5aa8c35",
   "metadata": {},
   "outputs": [],
   "source": [
    "c1 = Car(600 , 1000000, 8 , 999)"
   ]
  },
  {
   "cell_type": "code",
   "execution_count": 36,
   "id": "11119169-5fd3-4eb0-871b-bc73933604bb",
   "metadata": {},
   "outputs": [
    {
     "name": "stdout",
     "output_type": "stream",
     "text": [
      "Numbers of tyres in car 8\n",
      "Horse power of car is 999\n",
      " i am a car\n"
     ]
    }
   ],
   "source": [
    "c1.show_car_details()"
   ]
  },
  {
   "cell_type": "code",
   "execution_count": 37,
   "id": "cfb77e7a-4e64-4ce0-b559-4569f9e8a42d",
   "metadata": {},
   "outputs": [
    {
     "name": "stdout",
     "output_type": "stream",
     "text": [
      "milage of vehicle is  600\n",
      "cost of vehicle is  1000000\n"
     ]
    }
   ],
   "source": [
    "c1.vehicle_details()"
   ]
  },
  {
   "cell_type": "code",
   "execution_count": 38,
   "id": "c05963f2-2c95-4da6-ab9d-749daa7fb9d1",
   "metadata": {},
   "outputs": [],
   "source": [
    "## Types of inheritance\n",
    "#1. single inheritance\n",
    "#2.Multiple inheritance\n",
    "#3. Multi-level inheritance\n",
    "#4.Hybrid inheritance"
   ]
  },
  {
   "cell_type": "code",
   "execution_count": 41,
   "id": "b9a3eccf-d1b7-4153-97ac-edfed9053d58",
   "metadata": {},
   "outputs": [],
   "source": [
    "class Parent1():\n",
    "    def assign_string_one(self , str1):\n",
    "        self.str1 = str1\n",
    "    def show_string_one(self):\n",
    "        return self.str1\n",
    "    "
   ]
  },
  {
   "cell_type": "code",
   "execution_count": 42,
   "id": "1484ca15-dcf0-4fb0-92fb-46f2d8f300ca",
   "metadata": {},
   "outputs": [],
   "source": [
    "class Parent2():\n",
    "    def assign_string_two(self , str2):\n",
    "        self.str2 = str2\n",
    "        \n",
    "    def show_string_two(self):\n",
    "        return self.str2\n",
    "    "
   ]
  },
  {
   "cell_type": "code",
   "execution_count": 43,
   "id": "9bdaa840-963b-468d-bfd4-b7efb1255787",
   "metadata": {},
   "outputs": [],
   "source": [
    "class Child(Parent1 , Parent2):\n",
    "    def assign_string_three(self , str3):\n",
    "        self.str3 = str3\n",
    "        \n",
    "    def show_string_three(self):\n",
    "        return self.str3\n",
    "    "
   ]
  },
  {
   "cell_type": "code",
   "execution_count": 44,
   "id": "947ccf58-d139-4a24-acab-9f9ddaaba1ac",
   "metadata": {},
   "outputs": [],
   "source": [
    "my_child = Child()"
   ]
  },
  {
   "cell_type": "code",
   "execution_count": 45,
   "id": "90ba317a-5df7-4a6f-aaeb-6fa77fe783a2",
   "metadata": {},
   "outputs": [],
   "source": [
    "my_child.assign_string_one(\"i am string of parent1\")"
   ]
  },
  {
   "cell_type": "code",
   "execution_count": 46,
   "id": "d786037f-d005-48a9-986d-f7579d9c0d8b",
   "metadata": {},
   "outputs": [],
   "source": [
    "my_child.assign_string_two(\" i am string of parent2\")"
   ]
  },
  {
   "cell_type": "code",
   "execution_count": 47,
   "id": "c6bb9a13-cee9-43cf-ba99-2329f64ff73a",
   "metadata": {},
   "outputs": [],
   "source": [
    "my_child.assign_string_three(\"i am string of parent3\")"
   ]
  },
  {
   "cell_type": "code",
   "execution_count": 59,
   "id": "3ebee92f-56ed-41f5-b8d1-e299386fba25",
   "metadata": {},
   "outputs": [
    {
     "data": {
      "text/plain": [
       "'i am string of parent1'"
      ]
     },
     "execution_count": 59,
     "metadata": {},
     "output_type": "execute_result"
    }
   ],
   "source": [
    "my_child.show_string_one()"
   ]
  },
  {
   "cell_type": "code",
   "execution_count": 60,
   "id": "5dc46070-7b7f-4fc9-89a5-a543b74db45f",
   "metadata": {},
   "outputs": [
    {
     "data": {
      "text/plain": [
       "' i am string of parent2'"
      ]
     },
     "execution_count": 60,
     "metadata": {},
     "output_type": "execute_result"
    }
   ],
   "source": [
    "my_child.show_string_two()"
   ]
  },
  {
   "cell_type": "code",
   "execution_count": 61,
   "id": "bd4ed1ff-f7b8-4c71-a7a8-269c22eac7ff",
   "metadata": {},
   "outputs": [
    {
     "data": {
      "text/plain": [
       "'i am string of parent3'"
      ]
     },
     "execution_count": 61,
     "metadata": {},
     "output_type": "execute_result"
    }
   ],
   "source": [
    "my_child.show_string_three()"
   ]
  },
  {
   "cell_type": "code",
   "execution_count": 74,
   "id": "d043638f-c9a9-4be5-976d-ac7b9779c379",
   "metadata": {},
   "outputs": [],
   "source": [
    "class Parent():\n",
    "    def get_name(self , name):\n",
    "        self.name = name\n",
    "    def show_name(self):\n",
    "        return self.name"
   ]
  },
  {
   "cell_type": "code",
   "execution_count": 75,
   "id": "c7ff2945-c6fa-47f3-8607-2c627910eeb7",
   "metadata": {},
   "outputs": [],
   "source": [
    "class Child(Parent):\n",
    "    def get_age(self , age):\n",
    "        self.age = age\n",
    "    def show_age(self):\n",
    "        return self.age\n",
    "        "
   ]
  },
  {
   "cell_type": "code",
   "execution_count": 76,
   "id": "c07c0b7b-99cc-4b0b-bb01-ef74124a6a00",
   "metadata": {},
   "outputs": [],
   "source": [
    "class GrandChild(Child):\n",
    "    def get_gender(self , gender):\n",
    "        self.gender = gender\n",
    "    def show_gender(self):\n",
    "        return self.gender"
   ]
  },
  {
   "cell_type": "code",
   "execution_count": 79,
   "id": "359cb725-f45c-420c-ac85-2f2594dffb7a",
   "metadata": {},
   "outputs": [],
   "source": [
    "gc = GrandChild()"
   ]
  },
  {
   "cell_type": "code",
   "execution_count": null,
   "id": "604068ed-8023-4729-b964-7c4bf2658167",
   "metadata": {},
   "outputs": [],
   "source": []
  },
  {
   "cell_type": "code",
   "execution_count": null,
   "id": "0e821710-68d1-4124-a23c-4bd2256a3397",
   "metadata": {},
   "outputs": [],
   "source": []
  },
  {
   "cell_type": "code",
   "execution_count": null,
   "id": "d43c3dce-99a8-4654-834d-a63cb505803d",
   "metadata": {},
   "outputs": [],
   "source": []
  },
  {
   "cell_type": "code",
   "execution_count": null,
   "id": "10377fa9-acf0-4126-a169-4823a56753ef",
   "metadata": {},
   "outputs": [],
   "source": []
  }
 ],
 "metadata": {
  "kernelspec": {
   "display_name": "Python 3 (ipykernel)",
   "language": "python",
   "name": "python3"
  },
  "language_info": {
   "codemirror_mode": {
    "name": "ipython",
    "version": 3
   },
   "file_extension": ".py",
   "mimetype": "text/x-python",
   "name": "python",
   "nbconvert_exporter": "python",
   "pygments_lexer": "ipython3",
   "version": "3.10.8"
  }
 },
 "nbformat": 4,
 "nbformat_minor": 5
}
